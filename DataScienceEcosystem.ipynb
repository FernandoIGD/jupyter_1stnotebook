{
 "cells": [
  {
   "cell_type": "markdown",
   "id": "317522d6-db7a-46ca-821d-d889ac987dea",
   "metadata": {},
   "source": [
    "# Data Science Tools and Ecosystem"
   ]
  },
  {
   "cell_type": "markdown",
   "id": "6d0aacd7-28d4-48b5-aeb2-50a1920ec87b",
   "metadata": {},
   "source": [
    "In this notebook, Data Science Tools and Ecosystem are summarized."
   ]
  },
  {
   "cell_type": "markdown",
   "id": "70a1f385-4a75-497d-ac88-2950bdebde2f",
   "metadata": {},
   "source": [
    "**Objecives:**\n",
    "- List popular languages for Data Science\n",
    "- List popular data science libraries\n",
    "- List open source data science tools"
   ]
  },
  {
   "cell_type": "markdown",
   "id": "a5ca13a5-3e94-49eb-8d07-196fae1f35f6",
   "metadata": {},
   "source": [
    "Some of the popular languages that Data Scientists use are:\n",
    "1. Python\n",
    "2. R\n",
    "3. Julia\n",
    "4. SQL"
   ]
  },
  {
   "cell_type": "markdown",
   "id": "41005910-3d80-4306-891a-a1ed9349a779",
   "metadata": {},
   "source": [
    "Some of the commonly used libraries used by Data Scientists include:\n",
    "1. Pytorch\n",
    "2. Tensorflow\n",
    "3. Dplyr\n",
    "4. Pandas\n",
    "5. sciPy"
   ]
  },
  {
   "cell_type": "markdown",
   "id": "309ec37d-af00-4a4d-8dfe-1e8fddd7843f",
   "metadata": {},
   "source": [
    "| Data Science Tools |\n",
    "| ------------------ |\n",
    "| Jupyter |\n",
    "| Apache Zeppelin |\n",
    "| R Studio |"
   ]
  },
  {
   "cell_type": "markdown",
   "id": "43e7ecec-ff85-4a9b-b6cb-302d1741539c",
   "metadata": {},
   "source": [
    "### Below are a few examples of evaluating arithmetic expressions in Python\n",
    "\n",
    "1+1*2"
   ]
  },
  {
   "cell_type": "code",
   "execution_count": 3,
   "id": "63a9d21c-17b6-48e1-a796-39550392acbd",
   "metadata": {},
   "outputs": [
    {
     "data": {
      "text/plain": [
       "17"
      ]
     },
     "execution_count": 3,
     "metadata": {},
     "output_type": "execute_result"
    }
   ],
   "source": [
    "#This a simple arithmetic expression to mutiply then add integers\n",
    "(3*4)+5"
   ]
  },
  {
   "cell_type": "code",
   "execution_count": 6,
   "id": "c1f7aaf5-7d8c-4a2b-bc2d-abf6592da9ad",
   "metadata": {},
   "outputs": [
    {
     "data": {
      "text/plain": [
       "3.3333333333333335"
      ]
     },
     "execution_count": 6,
     "metadata": {},
     "output_type": "execute_result"
    }
   ],
   "source": [
    "#This will convert 200 minutes to hours by diving by 60\n",
    "200/60"
   ]
  },
  {
   "cell_type": "markdown",
   "id": "2968d998-0ea9-459f-97ce-8096a1a22183",
   "metadata": {},
   "source": [
    "## Author\n",
    "Fernando G."
   ]
  },
  {
   "cell_type": "code",
   "execution_count": null,
   "id": "572f8023-3ab7-46a3-afeb-c39bbd374cfd",
   "metadata": {},
   "outputs": [],
   "source": []
  }
 ],
 "metadata": {
  "kernelspec": {
   "display_name": "Python 3 (ipykernel)",
   "language": "python",
   "name": "python3"
  },
  "language_info": {
   "codemirror_mode": {
    "name": "ipython",
    "version": 3
   },
   "file_extension": ".py",
   "mimetype": "text/x-python",
   "name": "python",
   "nbconvert_exporter": "python",
   "pygments_lexer": "ipython3",
   "version": "3.11.7"
  }
 },
 "nbformat": 4,
 "nbformat_minor": 5
}
